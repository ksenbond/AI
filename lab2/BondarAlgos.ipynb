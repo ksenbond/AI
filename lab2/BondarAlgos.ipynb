{
  "nbformat": 4,
  "nbformat_minor": 0,
  "metadata": {
    "colab": {
      "name": "BondarAlgos.ipynb",
      "provenance": [],
      "collapsed_sections": [],
      "toc_visible": true
    },
    "kernelspec": {
      "name": "python3",
      "display_name": "Python 3"
    }
  },
  "cells": [
    {
      "cell_type": "markdown",
      "metadata": {
        "id": "ziyi-dGQdbTl",
        "colab_type": "text"
      },
      "source": [
        "# <center>Лабораторная работа №2<center>"
      ]
    },
    {
      "cell_type": "markdown",
      "metadata": {
        "id": "77LETv4Rdcds",
        "colab_type": "text"
      },
      "source": [
        "Выполнила студентка группы 8О-407Б \\\n",
        "Бондарь Ксения"
      ]
    },
    {
      "cell_type": "markdown",
      "metadata": {
        "id": "cJoliEjbeF6T",
        "colab_type": "text"
      },
      "source": [
        "## Задание"
      ]
    },
    {
      "cell_type": "markdown",
      "metadata": {
        "id": "N8JhynNSeKU7",
        "colab_type": "text"
      },
      "source": [
        "Необходимо реализовать алгоритмы машинного обучения:\n",
        "* \\+ ЛОГИСТИЧЕСКАЯ РЕГРЕССИЯ\n",
        "* \\+ KNN\n",
        "* \\- SVM\n",
        "* \\+ ДЕРЕВО РЕШЕНИЙ\n",
        "* \\+ RANDOM FOREST\n",
        "\n",
        "Применить данные алгоритмы на наборы данных, подготовленных в первой лабораторной работе. \\\n",
        "Провести анализ полученных моделей, вычислить метрики классификатора. \\\n",
        "Произвести тюнинг параметров в случае необходимости. \\\n",
        "Сравнить полученные результаты с моделями, реализованными в scikit-learn. \\\n",
        "Аналогично построить метрики классификации. \\\n",
        "Показать, что полученные модели не переобучились. \\\n",
        "Также необходимо сделать выводы о применимости данных моделей к вашей задаче."
      ]
    },
    {
      "cell_type": "markdown",
      "metadata": {
        "id": "NWP8eL1ieQsc",
        "colab_type": "text"
      },
      "source": [
        "## Подготовка данных"
      ]
    },
    {
      "cell_type": "markdown",
      "metadata": {
        "id": "ZqsUzVuUeXQj",
        "colab_type": "text"
      },
      "source": [
        "Тестовая и тренировочная выборки были подготовлены в Лабораторной работе №1 \n",
        "(первый датасет)."
      ]
    },
    {
      "cell_type": "markdown",
      "metadata": {
        "id": "4hMoI-Jxeozz",
        "colab_type": "text"
      },
      "source": [
        "Импортируем необходимые библиотеки и модули:"
      ]
    },
    {
      "cell_type": "code",
      "metadata": {
        "id": "hnyBMlq9ei2D",
        "colab_type": "code",
        "colab": {}
      },
      "source": [
        "%matplotlib inline\n",
        "import pandas as pd\n",
        "import numpy as np\n",
        "from sklearn.preprocessing import MinMaxScaler\n",
        "from sklearn.linear_model import LogisticRegression\n",
        "from sklearn.neighbors import KNeighborsClassifier\n",
        "from sklearn import tree\n",
        "from sklearn.ensemble import RandomForestClassifier\n",
        "from sklearn.metrics import accuracy_score\n",
        "from scipy.optimize import fmin_tnc\n",
        "from sklearn.metrics import classification_report\n",
        "from operator import itemgetter\n",
        "from scipy.stats import mode"
      ],
      "execution_count": 1,
      "outputs": []
    },
    {
      "cell_type": "markdown",
      "metadata": {
        "id": "1D6HblEVegsL",
        "colab_type": "text"
      },
      "source": [
        "Импортируем данные:"
      ]
    },
    {
      "cell_type": "code",
      "metadata": {
        "id": "Icm2j7VKfSW0",
        "colab_type": "code",
        "colab": {}
      },
      "source": [
        "data_train = pd.read_csv(\"data/data_test1.csv\")\n",
        "data_test = pd.read_csv(\"data/data_train1.csv\")"
      ],
      "execution_count": 2,
      "outputs": []
    },
    {
      "cell_type": "code",
      "metadata": {
        "id": "7dN3-3APxfGl",
        "colab_type": "code",
        "colab": {}
      },
      "source": [
        "# from google.colab import drive\n",
        "# drive.mount('/content/drive')"
      ],
      "execution_count": 3,
      "outputs": []
    },
    {
      "cell_type": "code",
      "metadata": {
        "id": "5E027sWUh8v6",
        "colab_type": "code",
        "colab": {}
      },
      "source": [
        "data_train.drop(['Unnamed: 0'], axis = 1, inplace = True)\n",
        "data_test.drop(['Unnamed: 0'], axis = 1, inplace = True)"
      ],
      "execution_count": 4,
      "outputs": []
    },
    {
      "cell_type": "code",
      "metadata": {
        "id": "Nw2QROejOMRD",
        "colab_type": "code",
        "colab": {
          "base_uri": "https://localhost:8080/",
          "height": 204
        },
        "outputId": "40a4efab-3c37-4075-b179-023ef7c0823e"
      },
      "source": [
        "data_train.head()"
      ],
      "execution_count": 5,
      "outputs": [
        {
          "output_type": "execute_result",
          "data": {
            "text/html": [
              "<div>\n",
              "<style scoped>\n",
              "    .dataframe tbody tr th:only-of-type {\n",
              "        vertical-align: middle;\n",
              "    }\n",
              "\n",
              "    .dataframe tbody tr th {\n",
              "        vertical-align: top;\n",
              "    }\n",
              "\n",
              "    .dataframe thead th {\n",
              "        text-align: right;\n",
              "    }\n",
              "</style>\n",
              "<table border=\"1\" class=\"dataframe\">\n",
              "  <thead>\n",
              "    <tr style=\"text-align: right;\">\n",
              "      <th></th>\n",
              "      <th>Gender</th>\n",
              "      <th>Age</th>\n",
              "      <th>EstimatedSalary</th>\n",
              "      <th>Purchased</th>\n",
              "    </tr>\n",
              "  </thead>\n",
              "  <tbody>\n",
              "    <tr>\n",
              "      <th>0</th>\n",
              "      <td>1</td>\n",
              "      <td>52</td>\n",
              "      <td>138000</td>\n",
              "      <td>1</td>\n",
              "    </tr>\n",
              "    <tr>\n",
              "      <th>1</th>\n",
              "      <td>1</td>\n",
              "      <td>53</td>\n",
              "      <td>82000</td>\n",
              "      <td>1</td>\n",
              "    </tr>\n",
              "    <tr>\n",
              "      <th>2</th>\n",
              "      <td>0</td>\n",
              "      <td>41</td>\n",
              "      <td>52000</td>\n",
              "      <td>0</td>\n",
              "    </tr>\n",
              "    <tr>\n",
              "      <th>3</th>\n",
              "      <td>1</td>\n",
              "      <td>48</td>\n",
              "      <td>30000</td>\n",
              "      <td>1</td>\n",
              "    </tr>\n",
              "    <tr>\n",
              "      <th>4</th>\n",
              "      <td>1</td>\n",
              "      <td>48</td>\n",
              "      <td>131000</td>\n",
              "      <td>1</td>\n",
              "    </tr>\n",
              "  </tbody>\n",
              "</table>\n",
              "</div>"
            ],
            "text/plain": [
              "   Gender  Age  EstimatedSalary  Purchased\n",
              "0       1   52           138000          1\n",
              "1       1   53            82000          1\n",
              "2       0   41            52000          0\n",
              "3       1   48            30000          1\n",
              "4       1   48           131000          1"
            ]
          },
          "metadata": {
            "tags": []
          },
          "execution_count": 5
        }
      ]
    },
    {
      "cell_type": "markdown",
      "metadata": {
        "id": "RQM2KFf0wO5N",
        "colab_type": "text"
      },
      "source": [
        "Перед обучением выделим целевую переменную и нормализуем данные."
      ]
    },
    {
      "cell_type": "code",
      "metadata": {
        "id": "upERpMoNEYfs",
        "colab_type": "code",
        "colab": {}
      },
      "source": [
        "y_train = data_train['Purchased'].to_numpy()\n",
        "y_test = data_test['Purchased'].to_numpy()\n",
        "\n",
        "x_train = data_train.drop('Purchased', axis=1)\n",
        "x_test = data_test.drop('Purchased', axis=1)"
      ],
      "execution_count": 6,
      "outputs": []
    },
    {
      "cell_type": "code",
      "metadata": {
        "id": "nv_Xk6R6wcaw",
        "colab_type": "code",
        "colab": {}
      },
      "source": [
        "scale_features_std = MinMaxScaler()\n",
        "\n",
        "x_train = scale_features_std.fit_transform(x_train.to_numpy()) \n",
        "x_test = scale_features_std.transform(x_test.to_numpy())"
      ],
      "execution_count": 7,
      "outputs": []
    },
    {
      "cell_type": "markdown",
      "metadata": {
        "id": "eW9L_89EwmXO",
        "colab_type": "text"
      },
      "source": [
        "## Модели"
      ]
    },
    {
      "cell_type": "markdown",
      "metadata": {
        "id": "_MVjjTAxwnkm",
        "colab_type": "text"
      },
      "source": [
        "### Логистическая регрессия"
      ]
    },
    {
      "cell_type": "markdown",
      "metadata": {
        "id": "MKI8SMl51s4C",
        "colab_type": "text"
      },
      "source": [
        "Логистическая регрессия - это метод обучения, который получается при использовании логистической функции потерь. Основным его свойством является тот факт, что он корректно оценивает вероятность принадлежности объекта к каждому из классов."
      ]
    },
    {
      "cell_type": "markdown",
      "metadata": {
        "id": "yfvhrS1713dO",
        "colab_type": "text"
      },
      "source": [
        "#### Реализация"
      ]
    },
    {
      "cell_type": "code",
      "metadata": {
        "id": "r2IAOwKjgoBo",
        "colab_type": "code",
        "colab": {}
      },
      "source": [
        "class LogReg:\n",
        "    @staticmethod\n",
        "    def logistic_func(x):\n",
        "        return 1 / (1 + np.exp(-x))\n",
        "    @staticmethod\n",
        "    def net_input(B, x):\n",
        "        return np.dot(x, B)\n",
        "    def probability(self, B, x):\n",
        "        return self.logistic_func(self.net_input(B, x))\n",
        "    def cost_function(self, B, x, y):\n",
        "        m = x.shape[0]\n",
        "        total_cost = -(1 / m) * np.sum(\n",
        "            y * np.log(self.probability(B, x)) + (1 - y) * np.log(\n",
        "                1 - self.probability(B, x)))\n",
        "        return total_cost\n",
        "    def gradient(self, B, x, y):\n",
        "        m = x.shape[0]\n",
        "        return (1 / m) * np.dot(x.T, self.logistic_func(self.net_input(B, x)) - y)\n",
        "    def fit(self, x, y, B):\n",
        "        weights = fmin_tnc(func=self.cost_function, x0=B, fprime=self.gradient,\n",
        "                               args=(x, y.flatten()))\n",
        "        self.w_ = weights[0]\n",
        "        return self\n",
        "    def predict(self, x, probab_threshold=0.5):\n",
        "        theta = self.w_[:, np.newaxis]\n",
        "        predicted_classes = self.probability(theta, x)\n",
        "        predicted_classes = (predicted_classes >= probab_threshold).astype(int)\n",
        "        predicted_classes = predicted_classes.flatten()\n",
        "        return predicted_classes"
      ],
      "execution_count": 8,
      "outputs": []
    },
    {
      "cell_type": "code",
      "metadata": {
        "id": "wlk0zQ23gs2f",
        "colab_type": "code",
        "colab": {
          "base_uri": "https://localhost:8080/",
          "height": 527
        },
        "outputId": "315e339f-64a6-4804-dcad-861ec2806a54"
      },
      "source": [
        "B = np.zeros(x_train.shape[1])\n",
        "\n",
        "lr = LogReg()\n",
        "lr.fit(x_train, y_train, B)\n",
        "\n",
        "predicted_classes = lr.predict(x_train)\n",
        "train_accuracy = accuracy_score(predicted_classes, y_train.flatten())\n",
        "train_report = classification_report(predicted_classes, y_train.flatten())\n",
        "\n",
        "predicted_classes = lr.predict(x_test)\n",
        "test_accuracy = accuracy_score(predicted_classes, y_test.flatten())\n",
        "test_report = classification_report(predicted_classes, y_test.flatten())\n",
        "\n",
        "print(\"Log reg realization:\")\n",
        "print(\"\\nTrain:\\n\\naccuracy: {}\".format(train_accuracy))\n",
        "print(\"report:\")\n",
        "print(train_report)\n",
        "print('*'*55)\n",
        "print(\"\\nTest:\\n\\naccuracy: {}\".format(test_accuracy))\n",
        "print(\"report:\")\n",
        "print(test_report)"
      ],
      "execution_count": 9,
      "outputs": [
        {
          "output_type": "stream",
          "text": [
            "Log reg realization:\n",
            "\n",
            "Train:\n",
            "\n",
            "accuracy: 0.75\n",
            "report:\n",
            "              precision    recall  f1-score   support\n",
            "\n",
            "           0       0.52      0.71      0.60        21\n",
            "           1       0.88      0.76      0.82        59\n",
            "\n",
            "    accuracy                           0.75        80\n",
            "   macro avg       0.70      0.74      0.71        80\n",
            "weighted avg       0.79      0.75      0.76        80\n",
            "\n",
            "*******************************************************\n",
            "\n",
            "Test:\n",
            "\n",
            "accuracy: 0.7625\n",
            "report:\n",
            "              precision    recall  f1-score   support\n",
            "\n",
            "           0       0.82      0.84      0.83       222\n",
            "           1       0.62      0.58      0.60        98\n",
            "\n",
            "    accuracy                           0.76       320\n",
            "   macro avg       0.72      0.71      0.72       320\n",
            "weighted avg       0.76      0.76      0.76       320\n",
            "\n"
          ],
          "name": "stdout"
        }
      ]
    },
    {
      "cell_type": "markdown",
      "metadata": {
        "id": "584Gu4nrlV3v",
        "colab_type": "text"
      },
      "source": [
        "#### Реализация из scikit-learn"
      ]
    },
    {
      "cell_type": "code",
      "metadata": {
        "id": "u4JrfiTolX4x",
        "colab_type": "code",
        "colab": {
          "base_uri": "https://localhost:8080/",
          "height": 102
        },
        "outputId": "8fb63e2f-004b-4d96-d648-7324f622674e"
      },
      "source": [
        "log_reg = LogisticRegression()\n",
        "log_reg.fit(x_train, y_train)"
      ],
      "execution_count": 10,
      "outputs": [
        {
          "output_type": "execute_result",
          "data": {
            "text/plain": [
              "LogisticRegression(C=1.0, class_weight=None, dual=False, fit_intercept=True,\n",
              "                   intercept_scaling=1, l1_ratio=None, max_iter=100,\n",
              "                   multi_class='auto', n_jobs=None, penalty='l2',\n",
              "                   random_state=None, solver='lbfgs', tol=0.0001, verbose=0,\n",
              "                   warm_start=False)"
            ]
          },
          "metadata": {
            "tags": []
          },
          "execution_count": 10
        }
      ]
    },
    {
      "cell_type": "code",
      "metadata": {
        "id": "v6F4JQMPlg0Y",
        "colab_type": "code",
        "colab": {
          "base_uri": "https://localhost:8080/",
          "height": 527
        },
        "outputId": "8830b6d2-3a71-4bf3-a5ec-1ed8e86a4340"
      },
      "source": [
        "predicted_classes = log_reg.predict(x_train)\n",
        "train_accuracy = accuracy_score(predicted_classes, y_train.flatten())\n",
        "train_report = classification_report(predicted_classes, y_train.flatten())\n",
        "\n",
        "predicted_classes = log_reg.predict(x_test)\n",
        "test_accuracy = accuracy_score(predicted_classes, y_test.flatten())\n",
        "test_report = classification_report(predicted_classes, y_test.flatten())\n",
        "\n",
        "print(\"Scikit-learn:\")\n",
        "print(\"\\nTrain:\\n\\naccuracy: {}\".format(train_accuracy))\n",
        "print(\"report:\")\n",
        "print(train_report)\n",
        "print('*'*55)\n",
        "print(\"\\nTest:\\n\\naccuracy: {}\".format(test_accuracy))\n",
        "print(\"report:\")\n",
        "print(test_report)\n"
      ],
      "execution_count": 11,
      "outputs": [
        {
          "output_type": "stream",
          "text": [
            "Scikit-learn:\n",
            "\n",
            "Train:\n",
            "\n",
            "accuracy: 0.825\n",
            "report:\n",
            "              precision    recall  f1-score   support\n",
            "\n",
            "           0       0.66      0.83      0.73        23\n",
            "           1       0.92      0.82      0.87        57\n",
            "\n",
            "    accuracy                           0.82        80\n",
            "   macro avg       0.79      0.83      0.80        80\n",
            "weighted avg       0.84      0.82      0.83        80\n",
            "\n",
            "*******************************************************\n",
            "\n",
            "Test:\n",
            "\n",
            "accuracy: 0.825\n",
            "report:\n",
            "              precision    recall  f1-score   support\n",
            "\n",
            "           0       0.88      0.87      0.88       230\n",
            "           1       0.68      0.70      0.69        90\n",
            "\n",
            "    accuracy                           0.82       320\n",
            "   macro avg       0.78      0.79      0.79       320\n",
            "weighted avg       0.83      0.82      0.83       320\n",
            "\n"
          ],
          "name": "stdout"
        }
      ]
    },
    {
      "cell_type": "markdown",
      "metadata": {
        "id": "8_X1cQ-cmTq_",
        "colab_type": "text"
      },
      "source": [
        "### KNN"
      ]
    },
    {
      "cell_type": "markdown",
      "metadata": {
        "id": "DIPVQd40mUjv",
        "colab_type": "text"
      },
      "source": [
        "Метод k-ближайших соседей используется для решения задачи классификации. Он относит объекты к классу, которому принадлежит большинство из k его ближайших соседей в многомерном пространстве признаков."
      ]
    },
    {
      "cell_type": "markdown",
      "metadata": {
        "id": "WkOFp0HmmYJ4",
        "colab_type": "text"
      },
      "source": [
        "#### Реализация"
      ]
    },
    {
      "cell_type": "code",
      "metadata": {
        "id": "g-Jw2mcumb6_",
        "colab_type": "code",
        "colab": {}
      },
      "source": [
        "class Point:\n",
        "    def __init__(self, axis):\n",
        "        self.axis = np.array(axis)   \n",
        "    def distance(self, other):\n",
        "        if not isinstance(other, Point):\n",
        "            other = Point(other)\n",
        "        return sum((self - other) ** 2) ** 0.5\n",
        "    def __sub__(self, other):\n",
        "        if isinstance(other, Point):\n",
        "            return Point(self.axis - other.axis)\n",
        "        return Point(self.axis - np.array(other))\n",
        "    def __pow__(self, power, modulo=None):\n",
        "        if modulo:\n",
        "            return self.axis ** power % modulo\n",
        "        return self.axis ** power\n",
        "\n",
        "class KNN:\n",
        "    def __init__(self, k=3):\n",
        "        self.k = int(k)\n",
        "        self._fit_data = []\n",
        "    def fit(self, x, y):\n",
        "        assert len(x) == len(y)\n",
        "        self._fit_data = [(Point(coordinates), label) for coordinates, label in zip(x, y)]\n",
        "    def predict(self, x):\n",
        "        predicts = []\n",
        "        for coordinates in x:\n",
        "            predict_point = Point(coordinates)\n",
        "            distances = []\n",
        "            for data_point, data_label in self._fit_data:\n",
        "                distances.append((predict_point.distance(data_point), data_label))\n",
        "            distances = sorted(distances, key=itemgetter(0))[:self.k]\n",
        "            predicts.append([max(distances, key=itemgetter(1))[1]])\n",
        "        return predicts"
      ],
      "execution_count": 12,
      "outputs": []
    },
    {
      "cell_type": "code",
      "metadata": {
        "id": "2ANNgmuJnPuj",
        "colab_type": "code",
        "colab": {
          "base_uri": "https://localhost:8080/",
          "height": 527
        },
        "outputId": "be50f956-1380-4e70-f65d-f343e89da230"
      },
      "source": [
        "knn = KNN(k=5)\n",
        "knn.fit(x_train, y_train)\n",
        "\n",
        "predicted_classes = knn.predict(x_train)\n",
        "train_accuracy = accuracy_score(predicted_classes, y_train.flatten())\n",
        "train_report = classification_report(predicted_classes, y_train.flatten())\n",
        "\n",
        "predicted_classes = knn.predict(x_test)\n",
        "test_accuracy = accuracy_score(predicted_classes, y_test.flatten())\n",
        "test_report = classification_report(predicted_classes, y_test.flatten())\n",
        "\n",
        "print(\"knn realization:\")\n",
        "print(\"\\nTrain:\\n\\naccuracy: {}\".format(train_accuracy))\n",
        "print(\"report:\")\n",
        "print(train_report)\n",
        "print('*'*55)\n",
        "print(\"\\nTest:\\n\\naccuracy: {}\".format(test_accuracy))\n",
        "print(\"report:\")\n",
        "print(test_report)"
      ],
      "execution_count": 13,
      "outputs": [
        {
          "output_type": "stream",
          "text": [
            "knn realization:\n",
            "\n",
            "Train:\n",
            "\n",
            "accuracy: 0.8875\n",
            "report:\n",
            "              precision    recall  f1-score   support\n",
            "\n",
            "           0       0.69      1.00      0.82        20\n",
            "           1       1.00      0.85      0.92        60\n",
            "\n",
            "    accuracy                           0.89        80\n",
            "   macro avg       0.84      0.93      0.87        80\n",
            "weighted avg       0.92      0.89      0.89        80\n",
            "\n",
            "*******************************************************\n",
            "\n",
            "Test:\n",
            "\n",
            "accuracy: 0.778125\n",
            "report:\n",
            "              precision    recall  f1-score   support\n",
            "\n",
            "           0       0.71      0.98      0.82       165\n",
            "           1       0.96      0.57      0.71       155\n",
            "\n",
            "    accuracy                           0.78       320\n",
            "   macro avg       0.83      0.77      0.77       320\n",
            "weighted avg       0.83      0.78      0.77       320\n",
            "\n"
          ],
          "name": "stdout"
        }
      ]
    },
    {
      "cell_type": "markdown",
      "metadata": {
        "id": "Q-Lsn3KZqDmK",
        "colab_type": "text"
      },
      "source": [
        "#### Реализация из scikit-learn"
      ]
    },
    {
      "cell_type": "code",
      "metadata": {
        "id": "lztP3yRrqFm1",
        "colab_type": "code",
        "colab": {
          "base_uri": "https://localhost:8080/",
          "height": 68
        },
        "outputId": "7d799f0d-f525-4522-d437-e239f4c6af8b"
      },
      "source": [
        "knn_sklearn = KNeighborsClassifier(n_neighbors=5)\n",
        "knn_sklearn.fit(x_train, y_train)"
      ],
      "execution_count": 14,
      "outputs": [
        {
          "output_type": "execute_result",
          "data": {
            "text/plain": [
              "KNeighborsClassifier(algorithm='auto', leaf_size=30, metric='minkowski',\n",
              "                     metric_params=None, n_jobs=None, n_neighbors=5, p=2,\n",
              "                     weights='uniform')"
            ]
          },
          "metadata": {
            "tags": []
          },
          "execution_count": 14
        }
      ]
    },
    {
      "cell_type": "code",
      "metadata": {
        "id": "JwRicKBxqae7",
        "colab_type": "code",
        "colab": {
          "base_uri": "https://localhost:8080/",
          "height": 527
        },
        "outputId": "cb6e9c1a-cc44-4811-c4ef-c5730e83a27c"
      },
      "source": [
        "predicted_classes = knn_sklearn.predict(x_train)\n",
        "train_accuracy = accuracy_score(predicted_classes, y_train.flatten())\n",
        "train_report = classification_report(predicted_classes, y_train.flatten())\n",
        "\n",
        "predicted_classes = knn_sklearn.predict(x_test)\n",
        "test_accuracy = accuracy_score(predicted_classes, y_test.flatten())\n",
        "test_report = classification_report(predicted_classes, y_test.flatten())\n",
        "\n",
        "print(\"Scikit-learn:\")\n",
        "print(\"\\nTrain:\\n\\naccuracy: {}\".format(train_accuracy))\n",
        "print(\"report:\")\n",
        "print(train_report)\n",
        "print('*'*55)\n",
        "print(\"\\nTest:\\n\\naccuracy: {}\".format(test_accuracy))\n",
        "print(\"report:\")\n",
        "print(test_report)"
      ],
      "execution_count": 15,
      "outputs": [
        {
          "output_type": "stream",
          "text": [
            "Scikit-learn:\n",
            "\n",
            "Train:\n",
            "\n",
            "accuracy: 0.9625\n",
            "report:\n",
            "              precision    recall  f1-score   support\n",
            "\n",
            "           0       1.00      0.91      0.95        32\n",
            "           1       0.94      1.00      0.97        48\n",
            "\n",
            "    accuracy                           0.96        80\n",
            "   macro avg       0.97      0.95      0.96        80\n",
            "weighted avg       0.96      0.96      0.96        80\n",
            "\n",
            "*******************************************************\n",
            "\n",
            "Test:\n",
            "\n",
            "accuracy: 0.903125\n",
            "report:\n",
            "              precision    recall  f1-score   support\n",
            "\n",
            "           0       0.93      0.94      0.93       225\n",
            "           1       0.85      0.82      0.83        95\n",
            "\n",
            "    accuracy                           0.90       320\n",
            "   macro avg       0.89      0.88      0.88       320\n",
            "weighted avg       0.90      0.90      0.90       320\n",
            "\n"
          ],
          "name": "stdout"
        }
      ]
    },
    {
      "cell_type": "markdown",
      "metadata": {
        "id": "xqmyr1t_rETj",
        "colab_type": "text"
      },
      "source": [
        "### Дерево решений"
      ]
    },
    {
      "cell_type": "markdown",
      "metadata": {
        "id": "2_HzxHTarJxm",
        "colab_type": "text"
      },
      "source": [
        "Дерево решений — алгоритм классификации, задающийся деревом (связным ациклическим графом)."
      ]
    },
    {
      "cell_type": "markdown",
      "metadata": {
        "id": "TJz3YSS0rNAE",
        "colab_type": "text"
      },
      "source": [
        "#### Реализация"
      ]
    },
    {
      "cell_type": "code",
      "metadata": {
        "id": "maOhwoAArP5d",
        "colab_type": "code",
        "colab": {}
      },
      "source": [
        "class Node:\n",
        "    def __init__(self, predicted_class):\n",
        "        self.predicted_class = predicted_class\n",
        "        self.feature_index = 0\n",
        "        self.threshold = 0\n",
        "        self.left = None\n",
        "        self.right = None\n",
        "\n",
        "\n",
        "class DecisionTree:\n",
        "    def __init__(self, max_depth=None):\n",
        "        self.max_depth = max_depth\n",
        "        self.feature_prun = 0.1\n",
        "\n",
        "    def fit(self, X, y, random_feature = False):\n",
        "        self.n_classes_ = len(set(y))\n",
        "        self.n_features_ = X.shape[1]\n",
        "        self.tree_ = self._grow_tree(X, y, random_feature)\n",
        "\n",
        "    def predict(self, X):\n",
        "        return [self._predict(inputs) for inputs in X]\n",
        "    \n",
        "    def _best_split(self, X, y,random_feature):\n",
        "        m = y.size\n",
        "        if m <= 1:\n",
        "            return None, None\n",
        "        num_parent = [np.sum(y == c) for c in range(self.n_classes_)]\n",
        "        best_gini = 1.0 - sum((n / m) ** 2 for n in num_parent)\n",
        "        best_idx, best_thr = None, None\n",
        "        for idx in range(self.n_features_):\n",
        "            if(np.random.randint(0, 11) <= self.feature_prun*10):\n",
        "                continue\n",
        "            thresholds, classes = zip(*sorted(zip(X[:, idx], y)))\n",
        "            num_left = [0] * self.n_classes_\n",
        "            num_right = num_parent.copy()\n",
        "            for i in range(1, m):\n",
        "                c = classes[i - 1]\n",
        "                num_left[c] += 1\n",
        "                num_right[c] -= 1\n",
        "                gini_left = 1.0 - sum(\n",
        "                    (num_left[x] / i) ** 2 for x in range(self.n_classes_)\n",
        "                )\n",
        "                gini_right = 1.0 - sum(\n",
        "                    (num_right[x] / (m - i)) ** 2 for x in range(self.n_classes_)\n",
        "                )\n",
        "                gini = (i * gini_left + (m - i) * gini_right) / m\n",
        "                if thresholds[i] == thresholds[i - 1]:\n",
        "                    continue\n",
        "                if gini < best_gini:\n",
        "                    best_gini = gini\n",
        "                    best_idx = idx\n",
        "                    best_thr = (thresholds[i] + thresholds[i - 1]) / 2\n",
        "        return best_idx, best_thr\n",
        "\n",
        "    def _grow_tree(self, X, y,random_feature, depth=0):\n",
        "        num_samples_per_class = [np.sum(y == i) for i in range(self.n_classes_)]\n",
        "        predicted_class = np.argmax(num_samples_per_class)\n",
        "        node = Node(predicted_class=predicted_class)\n",
        "        if depth < self.max_depth:\n",
        "            idx, thr = self._best_split(X, y,random_feature)\n",
        "            if idx is not None:\n",
        "                indices_left = X[:, idx] < thr\n",
        "                X_left, y_left = X[indices_left], y[indices_left]\n",
        "                X_right, y_right = X[~indices_left], y[~indices_left]\n",
        "                node.feature_index = idx\n",
        "                node.threshold = thr\n",
        "                node.left = self._grow_tree(X_left, y_left,random_feature, depth + 1)\n",
        "                node.right = self._grow_tree(X_right, y_right,random_feature, depth + 1)\n",
        "        return node\n",
        "\n",
        "    def _predict(self, inputs):\n",
        "        node = self.tree_\n",
        "        while node.left:\n",
        "            if inputs[node.feature_index] < node.threshold:\n",
        "                node = node.left\n",
        "            else:\n",
        "                node = node.right\n",
        "        return node.predicted_class"
      ],
      "execution_count": 16,
      "outputs": []
    },
    {
      "cell_type": "code",
      "metadata": {
        "id": "PSqI6NOYrjnK",
        "colab_type": "code",
        "colab": {
          "base_uri": "https://localhost:8080/",
          "height": 527
        },
        "outputId": "c59e611e-0a23-4010-a833-6af2e1e3770f"
      },
      "source": [
        "dt = DecisionTree(max_depth=5)\n",
        "dt.fit(x_train, y_train)\n",
        "\n",
        "predicted_classes = dt.predict(x_train)\n",
        "train_accuracy = accuracy_score(predicted_classes, y_train.flatten())\n",
        "train_report = classification_report(predicted_classes, y_train.flatten())\n",
        "\n",
        "predicted_classes = dt.predict(x_test)\n",
        "test_accuracy = accuracy_score(predicted_classes, y_test.flatten())\n",
        "test_report = classification_report(predicted_classes, y_test.flatten())\n",
        "\n",
        "print(\"ds realization:\")\n",
        "print(\"\\nTrain:\\n\\naccuracy: {}\".format(train_accuracy))\n",
        "print(\"report:\")\n",
        "print(train_report)\n",
        "print('*'*55)\n",
        "print(\"\\nTest:\\n\\naccuracy: {}\".format(test_accuracy))\n",
        "print(\"report:\")\n",
        "print(test_report)"
      ],
      "execution_count": 17,
      "outputs": [
        {
          "output_type": "stream",
          "text": [
            "ds realization:\n",
            "\n",
            "Train:\n",
            "\n",
            "accuracy: 1.0\n",
            "report:\n",
            "              precision    recall  f1-score   support\n",
            "\n",
            "           0       1.00      1.00      1.00        29\n",
            "           1       1.00      1.00      1.00        51\n",
            "\n",
            "    accuracy                           1.00        80\n",
            "   macro avg       1.00      1.00      1.00        80\n",
            "weighted avg       1.00      1.00      1.00        80\n",
            "\n",
            "*******************************************************\n",
            "\n",
            "Test:\n",
            "\n",
            "accuracy: 0.825\n",
            "report:\n",
            "              precision    recall  f1-score   support\n",
            "\n",
            "           0       0.79      0.96      0.86       186\n",
            "           1       0.92      0.63      0.75       134\n",
            "\n",
            "    accuracy                           0.82       320\n",
            "   macro avg       0.85      0.80      0.81       320\n",
            "weighted avg       0.84      0.82      0.82       320\n",
            "\n"
          ],
          "name": "stdout"
        }
      ]
    },
    {
      "cell_type": "markdown",
      "metadata": {
        "id": "MuJZCTz-sEA6",
        "colab_type": "text"
      },
      "source": [
        "#### Реализация из scikit-learn"
      ]
    },
    {
      "cell_type": "code",
      "metadata": {
        "id": "r5-2F7e6sSqE",
        "colab_type": "code",
        "colab": {}
      },
      "source": [
        "ds_sklearn = tree.DecisionTreeClassifier(max_depth=5)\n",
        "ds_sklearn = ds_sklearn.fit(x_train, y_train)"
      ],
      "execution_count": 18,
      "outputs": []
    },
    {
      "cell_type": "code",
      "metadata": {
        "id": "XDxIfWNkslpX",
        "colab_type": "code",
        "colab": {
          "base_uri": "https://localhost:8080/",
          "height": 527
        },
        "outputId": "baa7a9a3-3ccd-47b7-a6ea-aaf9d4bd843a"
      },
      "source": [
        "predicted_classes = ds_sklearn.predict(x_train)\n",
        "train_accuracy = accuracy_score(predicted_classes, y_train.flatten())\n",
        "train_report = classification_report(predicted_classes, y_train.flatten())\n",
        "\n",
        "predicted_classes = ds_sklearn.predict(x_test)\n",
        "test_accuracy = accuracy_score(predicted_classes, y_test.flatten())\n",
        "test_report = classification_report(predicted_classes, y_test.flatten())\n",
        "\n",
        "print(\"Scikit-learn:\")\n",
        "print(\"\\nTrain:\\n\\naccuracy: {}\".format(train_accuracy))\n",
        "print(\"report:\")\n",
        "print(train_report)\n",
        "print('*'*55)\n",
        "print(\"\\nTest:\\n\\naccuracy: {}\".format(test_accuracy))\n",
        "print(\"report:\")\n",
        "print(test_report)"
      ],
      "execution_count": 19,
      "outputs": [
        {
          "output_type": "stream",
          "text": [
            "Scikit-learn:\n",
            "\n",
            "Train:\n",
            "\n",
            "accuracy: 1.0\n",
            "report:\n",
            "              precision    recall  f1-score   support\n",
            "\n",
            "           0       1.00      1.00      1.00        29\n",
            "           1       1.00      1.00      1.00        51\n",
            "\n",
            "    accuracy                           1.00        80\n",
            "   macro avg       1.00      1.00      1.00        80\n",
            "weighted avg       1.00      1.00      1.00        80\n",
            "\n",
            "*******************************************************\n",
            "\n",
            "Test:\n",
            "\n",
            "accuracy: 0.821875\n",
            "report:\n",
            "              precision    recall  f1-score   support\n",
            "\n",
            "           0       0.78      0.96      0.86       185\n",
            "           1       0.92      0.63      0.75       135\n",
            "\n",
            "    accuracy                           0.82       320\n",
            "   macro avg       0.85      0.80      0.81       320\n",
            "weighted avg       0.84      0.82      0.81       320\n",
            "\n"
          ],
          "name": "stdout"
        }
      ]
    },
    {
      "cell_type": "markdown",
      "metadata": {
        "id": "0muGGDFas3Pp",
        "colab_type": "text"
      },
      "source": [
        "### Random forest"
      ]
    },
    {
      "cell_type": "markdown",
      "metadata": {
        "id": "X2vhG0_-tA-B",
        "colab_type": "text"
      },
      "source": [
        "RF (random forest) — это множество решающих деревьев. В задаче регрессии их ответы усредняются, в задаче классификации принимается решение голосованием по большинству."
      ]
    },
    {
      "cell_type": "markdown",
      "metadata": {
        "id": "LkLbGc7WwtRm",
        "colab_type": "text"
      },
      "source": [
        "#### Реализация"
      ]
    },
    {
      "cell_type": "code",
      "metadata": {
        "id": "itp-gHEPt4-w",
        "colab_type": "code",
        "colab": {}
      },
      "source": [
        "class RandForest():\n",
        "\n",
        "    def __init__(\n",
        "        self, n_estimators=32, max_features=8, max_depth=10,\n",
        "        min_samples_split=2, bootstrap=0.9\n",
        "        ):\n",
        "        self.n_estimators = n_estimators\n",
        "        self.max_features = max_features\n",
        "        self.max_depth = max_depth\n",
        "        self.min_samples_split = min_samples_split\n",
        "        self.bootstrap = bootstrap\n",
        "        self.forest = []\n",
        "\n",
        "\n",
        "    def fit(self, X, y):\n",
        "        self.forest = []\n",
        "        n_samples = len(y)\n",
        "        n_sub_samples = round(n_samples*self.bootstrap)\n",
        "        \n",
        "        for i in range(self.n_estimators):\n",
        "            X_subset = X[:n_sub_samples]\n",
        "            y_subset = y[:n_sub_samples]\n",
        "\n",
        "            tree_ = tree.DecisionTreeClassifier()\n",
        "            tree_.fit(X_subset, y_subset)\n",
        "            self.forest.append(tree_)\n",
        "\n",
        "\n",
        "    def predict(self, X):\n",
        "        n_samples = X.shape[0]\n",
        "        n_trees = len(self.forest)\n",
        "        predictions = np.empty([n_trees, n_samples])\n",
        "        for i in range(n_trees):\n",
        "            predictions[i] = self.forest[i].predict(X)\n",
        "\n",
        "        return mode(predictions)[0][0]\n",
        "\n",
        "\n",
        "    def score(self, X, y):\n",
        "        y_predict = self.predict(X)\n",
        "        n_samples = len(y)\n",
        "        correct = 0\n",
        "        for i in xrange(n_samples):\n",
        "            if y_predict[i] == y[i]:\n",
        "                correct = correct + 1\n",
        "        accuracy = correct/n_samples\n",
        "        return accuracy"
      ],
      "execution_count": 20,
      "outputs": []
    },
    {
      "cell_type": "code",
      "metadata": {
        "id": "vhg-M2MDuFDc",
        "colab_type": "code",
        "colab": {
          "base_uri": "https://localhost:8080/",
          "height": 527
        },
        "outputId": "395bc4be-2950-47cf-c290-899802f1dd76"
      },
      "source": [
        "rf = RandForest()\n",
        "rf.fit(x_train, y_train)\n",
        "\n",
        "predicted_classes = rf.predict(x_train)\n",
        "train_accuracy = accuracy_score(predicted_classes, y_train.flatten())\n",
        "train_report = classification_report(predicted_classes, y_train.flatten())\n",
        "\n",
        "predicted_classes = rf.predict(x_test)\n",
        "test_accuracy = accuracy_score(predicted_classes, y_test.flatten())\n",
        "test_report = classification_report(predicted_classes, y_test.flatten())\n",
        "\n",
        "print(\"rf realization:\")\n",
        "print(\"\\nTrain:\\n\\naccuracy: {}\".format(train_accuracy))\n",
        "print(\"report:\")\n",
        "print(train_report)\n",
        "print('*'*55)\n",
        "print(\"\\nTest:\\n\\naccuracy: {}\".format(test_accuracy))\n",
        "print(\"report:\")\n",
        "print(test_report)"
      ],
      "execution_count": 21,
      "outputs": [
        {
          "output_type": "stream",
          "text": [
            "rf realization:\n",
            "\n",
            "Train:\n",
            "\n",
            "accuracy: 1.0\n",
            "report:\n",
            "              precision    recall  f1-score   support\n",
            "\n",
            "         0.0       1.00      1.00      1.00        29\n",
            "         1.0       1.00      1.00      1.00        51\n",
            "\n",
            "    accuracy                           1.00        80\n",
            "   macro avg       1.00      1.00      1.00        80\n",
            "weighted avg       1.00      1.00      1.00        80\n",
            "\n",
            "*******************************************************\n",
            "\n",
            "Test:\n",
            "\n",
            "accuracy: 0.825\n",
            "report:\n",
            "              precision    recall  f1-score   support\n",
            "\n",
            "         0.0       0.79      0.96      0.86       186\n",
            "         1.0       0.92      0.63      0.75       134\n",
            "\n",
            "    accuracy                           0.82       320\n",
            "   macro avg       0.85      0.80      0.81       320\n",
            "weighted avg       0.84      0.82      0.82       320\n",
            "\n"
          ],
          "name": "stdout"
        }
      ]
    },
    {
      "cell_type": "markdown",
      "metadata": {
        "id": "t_pHX-GMwu-D",
        "colab_type": "text"
      },
      "source": [
        "#### Реализация из scikit-learn:"
      ]
    },
    {
      "cell_type": "code",
      "metadata": {
        "id": "hCuqpgHfxQMo",
        "colab_type": "code",
        "colab": {
          "base_uri": "https://localhost:8080/",
          "height": 153
        },
        "outputId": "46fb292d-d867-4ace-ed36-767b59960c3a"
      },
      "source": [
        "rf_sklearn = RandomForestClassifier(n_estimators=50, max_depth=2)\n",
        "rf_sklearn.fit(x_train, y_train)"
      ],
      "execution_count": 22,
      "outputs": [
        {
          "output_type": "execute_result",
          "data": {
            "text/plain": [
              "RandomForestClassifier(bootstrap=True, ccp_alpha=0.0, class_weight=None,\n",
              "                       criterion='gini', max_depth=2, max_features='auto',\n",
              "                       max_leaf_nodes=None, max_samples=None,\n",
              "                       min_impurity_decrease=0.0, min_impurity_split=None,\n",
              "                       min_samples_leaf=1, min_samples_split=2,\n",
              "                       min_weight_fraction_leaf=0.0, n_estimators=50,\n",
              "                       n_jobs=None, oob_score=False, random_state=None,\n",
              "                       verbose=0, warm_start=False)"
            ]
          },
          "metadata": {
            "tags": []
          },
          "execution_count": 22
        }
      ]
    },
    {
      "cell_type": "code",
      "metadata": {
        "id": "-0r-zmvsw297",
        "colab_type": "code",
        "colab": {
          "base_uri": "https://localhost:8080/",
          "height": 527
        },
        "outputId": "16bac823-06f7-4766-be69-1788da32e1e6"
      },
      "source": [
        "predicted_classes = rf_sklearn.predict(x_train)\n",
        "train_accuracy = accuracy_score(predicted_classes, y_train.flatten())\n",
        "train_report = classification_report(predicted_classes, y_train.flatten())\n",
        "\n",
        "predicted_classes = rf_sklearn.predict(x_test)\n",
        "test_accuracy = accuracy_score(predicted_classes, y_test.flatten())\n",
        "test_report = classification_report(predicted_classes, y_test.flatten())\n",
        "\n",
        "print(\"Scikit-learn:\")\n",
        "print(\"\\nTrain:\\n\\naccuracy: {}\".format(train_accuracy))\n",
        "print(\"report:\")\n",
        "print(train_report)\n",
        "print('*'*55)\n",
        "print(\"\\nTest:\\n\\naccuracy: {}\".format(test_accuracy))\n",
        "print(\"report:\")\n",
        "print(test_report)"
      ],
      "execution_count": 23,
      "outputs": [
        {
          "output_type": "stream",
          "text": [
            "Scikit-learn:\n",
            "\n",
            "Train:\n",
            "\n",
            "accuracy: 0.975\n",
            "report:\n",
            "              precision    recall  f1-score   support\n",
            "\n",
            "           0       0.97      0.97      0.97        29\n",
            "           1       0.98      0.98      0.98        51\n",
            "\n",
            "    accuracy                           0.97        80\n",
            "   macro avg       0.97      0.97      0.97        80\n",
            "weighted avg       0.97      0.97      0.97        80\n",
            "\n",
            "*******************************************************\n",
            "\n",
            "Test:\n",
            "\n",
            "accuracy: 0.7125\n",
            "report:\n",
            "              precision    recall  f1-score   support\n",
            "\n",
            "           0       0.62      0.96      0.76       148\n",
            "           1       0.93      0.50      0.65       172\n",
            "\n",
            "    accuracy                           0.71       320\n",
            "   macro avg       0.78      0.73      0.70       320\n",
            "weighted avg       0.79      0.71      0.70       320\n",
            "\n"
          ],
          "name": "stdout"
        }
      ]
    },
    {
      "cell_type": "markdown",
      "metadata": {
        "id": "SjJ3iaI5vuw_",
        "colab_type": "text"
      },
      "source": [
        "### Вывод"
      ]
    },
    {
      "cell_type": "markdown",
      "metadata": {
        "id": "j-vzUBUOvwVP",
        "colab_type": "text"
      },
      "source": [
        "В данной лабораторной работе было реализовано несколько базовых алгоритмов машинного обучения и построены модели из библиотеки Scikit-learn. Почти во всех случаях по метрикам иобучающей и тестовой выборок можно предположить, что модели переобучились. "
      ]
    }
  ]
}
